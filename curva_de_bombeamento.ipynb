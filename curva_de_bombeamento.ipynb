{
 "cells": [
  {
   "cell_type": "markdown",
   "metadata": {},
   "source": [
    "# Curva de Bombeamento"
   ]
  },
  {
   "cell_type": "code",
   "execution_count": 17,
   "metadata": {},
   "outputs": [],
   "source": [
    "#Importando bibliotecas:\n",
    "import numpy as np\n",
    "import matplotlib.pyplot as plt\n",
    "\n",
    "#Exibição dos gráficos em no notebook:\n",
    "#%matplotlib inline\n",
    "\n",
    "\n",
    "#Exibição dos gráficos em janela externa:\n",
    "%matplotlib qt\n",
    "plt.rcParams['lines.linewidth'] = 3\n",
    "plt.rcParams['font.size'] = 20\n"
   ]
  },
  {
   "cell_type": "markdown",
   "metadata": {},
   "source": [
    "* Curva do fabricante:"
   ]
  },
  {
   "cell_type": "code",
   "execution_count": 18,
   "metadata": {},
   "outputs": [],
   "source": [
    "#Pontos obtidos do gráfico do fabricante:\n",
    "x = [0, 2, 4, 6, 8, 10, 12, 14, 16, 18]\n",
    "y0 = [60, 58, 57, 56, 50, 54, 52, 48, 45, 40]\n",
    "\n",
    "#Interpolação Polinomial \n",
    "z = np.polyfit(x, y0, 2)\n",
    "y1 = np.poly1d(z)"
   ]
  },
  {
   "cell_type": "markdown",
   "metadata": {},
   "source": [
    "* Curva do sistema:"
   ]
  },
  {
   "cell_type": "code",
   "execution_count": 19,
   "metadata": {},
   "outputs": [],
   "source": [
    "def hman(Q):\n",
    "    #Conversão para SI:\n",
    "    Q = Q/3600\n",
    "\n",
    "    #diametros:\n",
    "    ds = 62.71/1000\n",
    "    dr = 52.51/1000\n",
    "\n",
    "    #velocidades:\n",
    "    As = ((np.pi*(ds**2))/4)\n",
    "    Ar = ((np.pi*(dr**2))/4)\n",
    "    vs = Q/As\n",
    "    vr = Q/Ar\n",
    "\n",
    "    #Perdas na sucção:\n",
    "    ls = 4.2\n",
    "    hlts = 0.0252*(ls/ds)*((vs**2)/(2*9.81))\n",
    "    hlks = 3.1*((vs**2)/(2*9.81))\n",
    "\n",
    "    #Perdas no recalque:\n",
    "    lr = 70.3\n",
    "    hltr = 0.0256*(lr/dr)*((vr**2)/(2*9.81))\n",
    "    hlkr = 6.1*((vr**2)/(2*9.81))\n",
    "\n",
    "    #Perdas totais e altura manometrica:\n",
    "    hs = 2.6\n",
    "    hr = 46.2\n",
    "    hls = hlts+hlks\n",
    "    hlr = hltr+hlkr\n",
    "    \n",
    "    return (hs+hr+hls+hlr)\n",
    "\n",
    "#Array do projeto:\n",
    "y2 = []\n",
    "\n",
    "for i in range(len(x)):\n",
    "    y2.append(hman(x[i]))"
   ]
  },
  {
   "cell_type": "markdown",
   "metadata": {},
   "source": [
    "* Gráfico:"
   ]
  },
  {
   "cell_type": "code",
   "execution_count": 20,
   "metadata": {},
   "outputs": [],
   "source": [
    "#Plot do gráfico:\n",
    "plt.rcParams['figure.figsize'] = (12, 5)\n",
    "plt.plot(x, y1(x), 'red', label='KSB')\n",
    "plt.plot(x, y2, 'blue', label='Projeto')\n",
    "plt.scatter(9.8875, 52.3105, 200, 'green', label='Operação')\n",
    "plt.xlabel('Q [$m^3/s$]')\n",
    "plt.ylabel('$H_{man}$ [m]')\n",
    "plt.legend(loc='lower center')\n",
    "plt.title('Curva de Bombeamento')\n",
    "plt.grid()"
   ]
  }
 ],
 "metadata": {
  "kernelspec": {
   "display_name": "Python 3.11.0 64-bit",
   "language": "python",
   "name": "python3"
  },
  "language_info": {
   "codemirror_mode": {
    "name": "ipython",
    "version": 3
   },
   "file_extension": ".py",
   "mimetype": "text/x-python",
   "name": "python",
   "nbconvert_exporter": "python",
   "pygments_lexer": "ipython3",
   "version": "3.11.0"
  },
  "orig_nbformat": 4,
  "vscode": {
   "interpreter": {
    "hash": "c2b9a9954fdc57c60aba3cd7b2ebbcfed9653792749b9e4128320be8c19325b9"
   }
  }
 },
 "nbformat": 4,
 "nbformat_minor": 2
}
